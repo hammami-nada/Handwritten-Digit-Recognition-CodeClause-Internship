{
 "cells": [
  {
   "cell_type": "code",
   "execution_count": 2,
   "id": "d40458fe",
   "metadata": {},
   "outputs": [
    {
     "data": {
      "text/plain": [
       "'C:\\\\Users\\\\user\\\\miniconda3\\\\python.exe'"
      ]
     },
     "execution_count": 2,
     "metadata": {},
     "output_type": "execute_result"
    }
   ],
   "source": [
    "import sys\n",
    "sys.executable\n"
   ]
  },
  {
   "cell_type": "code",
   "execution_count": 3,
   "id": "511aac58",
   "metadata": {},
   "outputs": [
    {
     "name": "stdout",
     "output_type": "stream",
     "text": [
      "Requirement already satisfied: torchvision in c:\\users\\user\\miniconda3\\lib\\site-packages (0.18.0)\n",
      "Requirement already satisfied: numpy in c:\\users\\user\\miniconda3\\lib\\site-packages (from torchvision) (1.26.2)\n",
      "Requirement already satisfied: torch==2.3.0 in c:\\users\\user\\miniconda3\\lib\\site-packages (from torchvision) (2.3.0)\n",
      "Requirement already satisfied: pillow!=8.3.*,>=5.3.0 in c:\\users\\user\\miniconda3\\lib\\site-packages (from torchvision) (10.1.0)\n",
      "Requirement already satisfied: filelock in c:\\users\\user\\miniconda3\\lib\\site-packages (from torch==2.3.0->torchvision) (3.14.0)\n",
      "Requirement already satisfied: typing-extensions>=4.8.0 in c:\\users\\user\\miniconda3\\lib\\site-packages (from torch==2.3.0->torchvision) (4.11.0)\n",
      "Requirement already satisfied: sympy in c:\\users\\user\\miniconda3\\lib\\site-packages (from torch==2.3.0->torchvision) (1.12)\n",
      "Requirement already satisfied: networkx in c:\\users\\user\\miniconda3\\lib\\site-packages (from torch==2.3.0->torchvision) (3.3)\n",
      "Requirement already satisfied: jinja2 in c:\\users\\user\\miniconda3\\lib\\site-packages (from torch==2.3.0->torchvision) (3.1.2)\n",
      "Requirement already satisfied: fsspec in c:\\users\\user\\miniconda3\\lib\\site-packages (from torch==2.3.0->torchvision) (2024.3.1)\n",
      "Requirement already satisfied: mkl<=2021.4.0,>=2021.1.1 in c:\\users\\user\\miniconda3\\lib\\site-packages (from torch==2.3.0->torchvision) (2021.4.0)\n",
      "Requirement already satisfied: intel-openmp==2021.* in c:\\users\\user\\miniconda3\\lib\\site-packages (from mkl<=2021.4.0,>=2021.1.1->torch==2.3.0->torchvision) (2021.4.0)\n",
      "Requirement already satisfied: tbb==2021.* in c:\\users\\user\\miniconda3\\lib\\site-packages (from mkl<=2021.4.0,>=2021.1.1->torch==2.3.0->torchvision) (2021.12.0)\n",
      "Requirement already satisfied: MarkupSafe>=2.0 in c:\\users\\user\\miniconda3\\lib\\site-packages (from jinja2->torch==2.3.0->torchvision) (2.1.1)\n",
      "Requirement already satisfied: mpmath>=0.19 in c:\\users\\user\\miniconda3\\lib\\site-packages (from sympy->torch==2.3.0->torchvision) (1.3.0)\n"
     ]
    }
   ],
   "source": [
    "!pip install torchvision\n"
   ]
  },
  {
   "cell_type": "code",
   "execution_count": 4,
   "id": "5a87284c",
   "metadata": {},
   "outputs": [],
   "source": [
    "from torchvision import datasets\n",
    "from torchvision.transforms import ToTensor #ToTensor can take image data and turn it into a tensor(1D metrcis)\n"
   ]
  },
  {
   "cell_type": "code",
   "execution_count": 5,
   "id": "e0fb9579",
   "metadata": {},
   "outputs": [],
   "source": [
    "# MNIST is a popular dataset of handwritten digits commonly used for training various machine learning models\n",
    "train_data=datasets.MNIST(\n",
    "root='data',\n",
    "train=True,\n",
    "transform=ToTensor(), # converts the images in the dataset into PyTorch tensors\n",
    "download=True #ensures that the dataset will be downloaded if it's not found in the specified root directory\n",
    ")\n",
    "test_data=datasets.MNIST(\n",
    "root='data',\n",
    "train=False,\n",
    "transform=ToTensor(),\n",
    "download=True\n",
    ")"
   ]
  },
  {
   "cell_type": "code",
   "execution_count": 6,
   "id": "51860c79",
   "metadata": {},
   "outputs": [
    {
     "data": {
      "text/plain": [
       "Dataset MNIST\n",
       "    Number of datapoints: 60000\n",
       "    Root location: data\n",
       "    Split: Train\n",
       "    StandardTransform\n",
       "Transform: ToTensor()"
      ]
     },
     "execution_count": 6,
     "metadata": {},
     "output_type": "execute_result"
    }
   ],
   "source": [
    "train_data"
   ]
  },
  {
   "cell_type": "code",
   "execution_count": 7,
   "id": "a5f12943",
   "metadata": {},
   "outputs": [
    {
     "data": {
      "text/plain": [
       "Dataset MNIST\n",
       "    Number of datapoints: 10000\n",
       "    Root location: data\n",
       "    Split: Test\n",
       "    StandardTransform\n",
       "Transform: ToTensor()"
      ]
     },
     "execution_count": 7,
     "metadata": {},
     "output_type": "execute_result"
    }
   ],
   "source": [
    "test_data"
   ]
  },
  {
   "cell_type": "code",
   "execution_count": 8,
   "id": "d1a91dcc",
   "metadata": {},
   "outputs": [
    {
     "data": {
      "text/plain": [
       "tensor([[[0, 0, 0,  ..., 0, 0, 0],\n",
       "         [0, 0, 0,  ..., 0, 0, 0],\n",
       "         [0, 0, 0,  ..., 0, 0, 0],\n",
       "         ...,\n",
       "         [0, 0, 0,  ..., 0, 0, 0],\n",
       "         [0, 0, 0,  ..., 0, 0, 0],\n",
       "         [0, 0, 0,  ..., 0, 0, 0]],\n",
       "\n",
       "        [[0, 0, 0,  ..., 0, 0, 0],\n",
       "         [0, 0, 0,  ..., 0, 0, 0],\n",
       "         [0, 0, 0,  ..., 0, 0, 0],\n",
       "         ...,\n",
       "         [0, 0, 0,  ..., 0, 0, 0],\n",
       "         [0, 0, 0,  ..., 0, 0, 0],\n",
       "         [0, 0, 0,  ..., 0, 0, 0]],\n",
       "\n",
       "        [[0, 0, 0,  ..., 0, 0, 0],\n",
       "         [0, 0, 0,  ..., 0, 0, 0],\n",
       "         [0, 0, 0,  ..., 0, 0, 0],\n",
       "         ...,\n",
       "         [0, 0, 0,  ..., 0, 0, 0],\n",
       "         [0, 0, 0,  ..., 0, 0, 0],\n",
       "         [0, 0, 0,  ..., 0, 0, 0]],\n",
       "\n",
       "        ...,\n",
       "\n",
       "        [[0, 0, 0,  ..., 0, 0, 0],\n",
       "         [0, 0, 0,  ..., 0, 0, 0],\n",
       "         [0, 0, 0,  ..., 0, 0, 0],\n",
       "         ...,\n",
       "         [0, 0, 0,  ..., 0, 0, 0],\n",
       "         [0, 0, 0,  ..., 0, 0, 0],\n",
       "         [0, 0, 0,  ..., 0, 0, 0]],\n",
       "\n",
       "        [[0, 0, 0,  ..., 0, 0, 0],\n",
       "         [0, 0, 0,  ..., 0, 0, 0],\n",
       "         [0, 0, 0,  ..., 0, 0, 0],\n",
       "         ...,\n",
       "         [0, 0, 0,  ..., 0, 0, 0],\n",
       "         [0, 0, 0,  ..., 0, 0, 0],\n",
       "         [0, 0, 0,  ..., 0, 0, 0]],\n",
       "\n",
       "        [[0, 0, 0,  ..., 0, 0, 0],\n",
       "         [0, 0, 0,  ..., 0, 0, 0],\n",
       "         [0, 0, 0,  ..., 0, 0, 0],\n",
       "         ...,\n",
       "         [0, 0, 0,  ..., 0, 0, 0],\n",
       "         [0, 0, 0,  ..., 0, 0, 0],\n",
       "         [0, 0, 0,  ..., 0, 0, 0]]], dtype=torch.uint8)"
      ]
     },
     "execution_count": 8,
     "metadata": {},
     "output_type": "execute_result"
    }
   ],
   "source": [
    "train_data.data"
   ]
  },
  {
   "cell_type": "code",
   "execution_count": 9,
   "id": "74cc01b5",
   "metadata": {},
   "outputs": [
    {
     "data": {
      "text/plain": [
       "torch.Size([60000, 28, 28])"
      ]
     },
     "execution_count": 9,
     "metadata": {},
     "output_type": "execute_result"
    }
   ],
   "source": [
    "train_data.data.shape"
   ]
  },
  {
   "cell_type": "code",
   "execution_count": 10,
   "id": "a4b7e8ee",
   "metadata": {},
   "outputs": [
    {
     "data": {
      "text/plain": [
       "torch.Size([10000, 28, 28])"
      ]
     },
     "execution_count": 10,
     "metadata": {},
     "output_type": "execute_result"
    }
   ],
   "source": [
    "test_data.data.shape"
   ]
  },
  {
   "cell_type": "code",
   "execution_count": 11,
   "id": "d809edc8",
   "metadata": {},
   "outputs": [
    {
     "data": {
      "text/plain": [
       "torch.Size([60000])"
      ]
     },
     "execution_count": 11,
     "metadata": {},
     "output_type": "execute_result"
    }
   ],
   "source": [
    "train_data.targets.size()"
   ]
  },
  {
   "cell_type": "code",
   "execution_count": 12,
   "id": "adf07b0a",
   "metadata": {},
   "outputs": [
    {
     "data": {
      "text/plain": [
       "tensor([5, 0, 4,  ..., 5, 6, 8])"
      ]
     },
     "execution_count": 12,
     "metadata": {},
     "output_type": "execute_result"
    }
   ],
   "source": [
    "train_data.targets\n",
    "# The labels in the MNIST dataset are integers ranging from 0 to 9 representing one of the 10 possible digits"
   ]
  },
  {
   "cell_type": "code",
   "execution_count": 13,
   "id": "046147c0",
   "metadata": {},
   "outputs": [],
   "source": [
    "# DaraLoader is used to load data from a dataset and provides features like batching, shuffling, and parallel data loading\n",
    "from torch.utils.data import DataLoader\n",
    "loaders={\n",
    "    'train':DataLoader(train_data,\n",
    "                      batch_size=100,  # how many samples will be included in each batch during training\n",
    "                      shuffle=True, # Shuffling the dataset means randomizing the order of the samples\n",
    "                      num_workers=1), # means that only one worker process will be used and increasing this number can speed up data loading, especially if you're loading data from disk\n",
    "    'test':DataLoader(test_data,\n",
    "                      batch_size=100,\n",
    "                      shuffle=True,\n",
    "                      num_workers=1),\n",
    "}"
   ]
  },
  {
   "cell_type": "code",
   "execution_count": 18,
   "id": "d7cf3033",
   "metadata": {},
   "outputs": [
    {
     "data": {
      "text/plain": [
       "{'train': <torch.utils.data.dataloader.DataLoader at 0x1f372f0b050>,\n",
       " 'test': <torch.utils.data.dataloader.DataLoader at 0x1f372e99610>}"
      ]
     },
     "execution_count": 18,
     "metadata": {},
     "output_type": "execute_result"
    }
   ],
   "source": [
    "loaders"
   ]
  },
  {
   "cell_type": "code",
   "execution_count": 34,
   "id": "af8fab6d",
   "metadata": {},
   "outputs": [],
   "source": [
    "import torch.nn as nn\n",
    "import torch.nn.functional as F\n",
    "import torch.optim as optim # provides implementations of various optimization algorithms like SGD, Adam...\n",
    "\n",
    "class CNN(nn.Module):\n",
    "    def __init__(self):\n",
    "        super(CNN, self).__init__()\n",
    "        self.conv1 = nn.Conv2d(1, 10, kernel_size=5) # first convolutional layer with 1 input channel, 10 output channels (filters), and a kernel size of 5x5.\n",
    "        self.conv2 = nn.Conv2d(10, 20, kernel_size=5)\n",
    "        self.conv2_drop = nn.Dropout2d() # to prevent overfitting\n",
    "        self.fc1 = nn.Linear(320, 50) #  First fully connected layer with 320 input features and 50 output features\n",
    "        self.fc2 = nn.Linear(50, 10)\n",
    "    \n",
    "    def forward(self, x):\n",
    "        x = F.relu(F.max_pool2d(self.conv1(x), 2))\n",
    "        x = F.relu(F.max_pool2d(self.conv2_drop(self.conv2(x)), 2))\n",
    "        x = x.view(-1, 320)\n",
    "        x = F.relu(self.fc1(x))\n",
    "        x = F.dropout(x, training=self.training)\n",
    "        x = self.fc2(x)\n",
    "        return F.softmax(x, dim=1)\n",
    "\n",
    "\n"
   ]
  },
  {
   "cell_type": "code",
   "execution_count": 35,
   "id": "ca58bbb8",
   "metadata": {},
   "outputs": [],
   "source": [
    "import torch\n",
    "device = torch.device('cuda' if torch.cuda.is_available() else 'cpu')\n",
    "model = CNN().to(device)\n",
    "optimizer = optim.Adam(model.parameters(), lr=0.001)\n",
    "loss_fn = nn.CrossEntropyLoss()\n",
    "\n",
    "def train(epoch):\n",
    "    model.train()\n",
    "    for batch_idx, (data, target) in enumerate(loaders['train']):\n",
    "        data, target = data.to(device), target.to(device)\n",
    "        optimizer.zero_grad()\n",
    "        output = model(data)\n",
    "        loss = loss_fn(output, target)\n",
    "        loss.backward()\n",
    "        optimizer.step()\n",
    "        if batch_idx % 20 == 0:\n",
    "            print(f\"Train Epoch:{epoch} [{batch_idx * len(data)} / {len(loaders['train'].dataset)} {100. * batch_idx / len(loaders['train']):.0f}%] / {loss.item():.6f}\")\n",
    "\n",
    "def test():\n",
    "    model.eval()\n",
    "    test_loss = 0\n",
    "    correct = 0\n",
    "    with torch.no_grad():\n",
    "        for data, target in loaders['test']:\n",
    "            data, target = data.to(device), target.to(device)\n",
    "            output = model(data)\n",
    "            test_loss += loss_fn(output, target).item()\n",
    "            pred = output.argmax(dim=1, keepdim=True)\n",
    "            correct += pred.eq(target.view_as(pred)).sum().item()\n",
    "    test_loss /= len(loaders['test'].dataset)\n",
    "    print(f\"\\nTest set: Average loss:{test_loss:.4f}, Accuracy{correct}/{len(loaders['test'].dataset)} ({100.* correct / len(loaders['test'].dataset):.0f}%)\\n\")\n",
    "\n",
    "\n"
   ]
  },
  {
   "cell_type": "code",
   "execution_count": 36,
   "id": "3935bed5",
   "metadata": {},
   "outputs": [
    {
     "name": "stdout",
     "output_type": "stream",
     "text": [
      "Train Epoch:1 [0 / 60000 0%] / 2.301986\n",
      "Train Epoch:1 [2000 / 60000 3%] / 2.284401\n",
      "Train Epoch:1 [4000 / 60000 7%] / 2.141195\n",
      "Train Epoch:1 [6000 / 60000 10%] / 1.900820\n",
      "Train Epoch:1 [8000 / 60000 13%] / 1.914478\n",
      "Train Epoch:1 [10000 / 60000 17%] / 1.878618\n",
      "Train Epoch:1 [12000 / 60000 20%] / 1.794111\n",
      "Train Epoch:1 [14000 / 60000 23%] / 1.754899\n",
      "Train Epoch:1 [16000 / 60000 27%] / 1.713044\n",
      "Train Epoch:1 [18000 / 60000 30%] / 1.761457\n",
      "Train Epoch:1 [20000 / 60000 33%] / 1.709804\n",
      "Train Epoch:1 [22000 / 60000 37%] / 1.748687\n",
      "Train Epoch:1 [24000 / 60000 40%] / 1.648278\n",
      "Train Epoch:1 [26000 / 60000 43%] / 1.682053\n",
      "Train Epoch:1 [28000 / 60000 47%] / 1.652982\n",
      "Train Epoch:1 [30000 / 60000 50%] / 1.663390\n",
      "Train Epoch:1 [32000 / 60000 53%] / 1.608290\n",
      "Train Epoch:1 [34000 / 60000 57%] / 1.641682\n",
      "Train Epoch:1 [36000 / 60000 60%] / 1.646838\n",
      "Train Epoch:1 [38000 / 60000 63%] / 1.611633\n",
      "Train Epoch:1 [40000 / 60000 67%] / 1.636140\n",
      "Train Epoch:1 [42000 / 60000 70%] / 1.613381\n",
      "Train Epoch:1 [44000 / 60000 73%] / 1.615393\n",
      "Train Epoch:1 [46000 / 60000 77%] / 1.642642\n",
      "Train Epoch:1 [48000 / 60000 80%] / 1.642834\n",
      "Train Epoch:1 [50000 / 60000 83%] / 1.640434\n",
      "Train Epoch:1 [52000 / 60000 87%] / 1.576294\n",
      "Train Epoch:1 [54000 / 60000 90%] / 1.639706\n",
      "Train Epoch:1 [56000 / 60000 93%] / 1.628255\n",
      "Train Epoch:1 [58000 / 60000 97%] / 1.608577\n",
      "\n",
      "Test set: Average loss:0.0153, Accuracy55874/60000 (93%)\n",
      "\n",
      "Train Epoch:2 [0 / 60000 0%] / 1.589518\n",
      "Train Epoch:2 [2000 / 60000 3%] / 1.642894\n",
      "Train Epoch:2 [4000 / 60000 7%] / 1.628537\n",
      "Train Epoch:2 [6000 / 60000 10%] / 1.576141\n",
      "Train Epoch:2 [8000 / 60000 13%] / 1.617794\n",
      "Train Epoch:2 [10000 / 60000 17%] / 1.558823\n",
      "Train Epoch:2 [12000 / 60000 20%] / 1.568122\n",
      "Train Epoch:2 [14000 / 60000 23%] / 1.588866\n",
      "Train Epoch:2 [16000 / 60000 27%] / 1.566485\n",
      "Train Epoch:2 [18000 / 60000 30%] / 1.586351\n",
      "Train Epoch:2 [20000 / 60000 33%] / 1.543712\n",
      "Train Epoch:2 [22000 / 60000 37%] / 1.519230\n",
      "Train Epoch:2 [24000 / 60000 40%] / 1.529848\n",
      "Train Epoch:2 [26000 / 60000 43%] / 1.592280\n",
      "Train Epoch:2 [28000 / 60000 47%] / 1.647057\n",
      "Train Epoch:2 [30000 / 60000 50%] / 1.580861\n",
      "Train Epoch:2 [32000 / 60000 53%] / 1.575460\n",
      "Train Epoch:2 [34000 / 60000 57%] / 1.620013\n",
      "Train Epoch:2 [36000 / 60000 60%] / 1.536808\n",
      "Train Epoch:2 [38000 / 60000 63%] / 1.625210\n",
      "Train Epoch:2 [40000 / 60000 67%] / 1.634380\n",
      "Train Epoch:2 [42000 / 60000 70%] / 1.543566\n",
      "Train Epoch:2 [44000 / 60000 73%] / 1.585574\n",
      "Train Epoch:2 [46000 / 60000 77%] / 1.547177\n",
      "Train Epoch:2 [48000 / 60000 80%] / 1.613955\n",
      "Train Epoch:2 [50000 / 60000 83%] / 1.567983\n",
      "Train Epoch:2 [52000 / 60000 87%] / 1.508080\n",
      "Train Epoch:2 [54000 / 60000 90%] / 1.540257\n",
      "Train Epoch:2 [56000 / 60000 93%] / 1.531307\n",
      "Train Epoch:2 [58000 / 60000 97%] / 1.601926\n",
      "\n",
      "Test set: Average loss:0.0151, Accuracy56861/60000 (95%)\n",
      "\n",
      "Train Epoch:3 [0 / 60000 0%] / 1.587698\n",
      "Train Epoch:3 [2000 / 60000 3%] / 1.596208\n",
      "Train Epoch:3 [4000 / 60000 7%] / 1.566860\n",
      "Train Epoch:3 [6000 / 60000 10%] / 1.539564\n",
      "Train Epoch:3 [8000 / 60000 13%] / 1.540428\n",
      "Train Epoch:3 [10000 / 60000 17%] / 1.569323\n",
      "Train Epoch:3 [12000 / 60000 20%] / 1.601079\n",
      "Train Epoch:3 [14000 / 60000 23%] / 1.574627\n",
      "Train Epoch:3 [16000 / 60000 27%] / 1.557233\n",
      "Train Epoch:3 [18000 / 60000 30%] / 1.513885\n",
      "Train Epoch:3 [20000 / 60000 33%] / 1.500532\n",
      "Train Epoch:3 [22000 / 60000 37%] / 1.526364\n",
      "Train Epoch:3 [24000 / 60000 40%] / 1.514917\n",
      "Train Epoch:3 [26000 / 60000 43%] / 1.540380\n",
      "Train Epoch:3 [28000 / 60000 47%] / 1.498776\n",
      "Train Epoch:3 [30000 / 60000 50%] / 1.574608\n",
      "Train Epoch:3 [32000 / 60000 53%] / 1.546540\n",
      "Train Epoch:3 [34000 / 60000 57%] / 1.562814\n",
      "Train Epoch:3 [36000 / 60000 60%] / 1.556614\n",
      "Train Epoch:3 [38000 / 60000 63%] / 1.513342\n",
      "Train Epoch:3 [40000 / 60000 67%] / 1.524395\n",
      "Train Epoch:3 [42000 / 60000 70%] / 1.513621\n",
      "Train Epoch:3 [44000 / 60000 73%] / 1.555446\n",
      "Train Epoch:3 [46000 / 60000 77%] / 1.606764\n",
      "Train Epoch:3 [48000 / 60000 80%] / 1.536269\n",
      "Train Epoch:3 [50000 / 60000 83%] / 1.537124\n",
      "Train Epoch:3 [52000 / 60000 87%] / 1.540352\n",
      "Train Epoch:3 [54000 / 60000 90%] / 1.586047\n",
      "Train Epoch:3 [56000 / 60000 93%] / 1.612629\n",
      "Train Epoch:3 [58000 / 60000 97%] / 1.531633\n",
      "\n",
      "Test set: Average loss:0.0150, Accuracy57587/60000 (96%)\n",
      "\n",
      "Train Epoch:4 [0 / 60000 0%] / 1.573176\n",
      "Train Epoch:4 [2000 / 60000 3%] / 1.527573\n",
      "Train Epoch:4 [4000 / 60000 7%] / 1.565062\n",
      "Train Epoch:4 [6000 / 60000 10%] / 1.561011\n",
      "Train Epoch:4 [8000 / 60000 13%] / 1.558756\n",
      "Train Epoch:4 [10000 / 60000 17%] / 1.507795\n",
      "Train Epoch:4 [12000 / 60000 20%] / 1.572407\n",
      "Train Epoch:4 [14000 / 60000 23%] / 1.520297\n",
      "Train Epoch:4 [16000 / 60000 27%] / 1.499762\n",
      "Train Epoch:4 [18000 / 60000 30%] / 1.581668\n",
      "Train Epoch:4 [20000 / 60000 33%] / 1.540786\n",
      "Train Epoch:4 [22000 / 60000 37%] / 1.549653\n",
      "Train Epoch:4 [24000 / 60000 40%] / 1.530024\n",
      "Train Epoch:4 [26000 / 60000 43%] / 1.572947\n",
      "Train Epoch:4 [28000 / 60000 47%] / 1.540447\n",
      "Train Epoch:4 [30000 / 60000 50%] / 1.549678\n",
      "Train Epoch:4 [32000 / 60000 53%] / 1.584929\n",
      "Train Epoch:4 [34000 / 60000 57%] / 1.501917\n",
      "Train Epoch:4 [36000 / 60000 60%] / 1.491243\n",
      "Train Epoch:4 [38000 / 60000 63%] / 1.606196\n",
      "Train Epoch:4 [40000 / 60000 67%] / 1.551389\n",
      "Train Epoch:4 [42000 / 60000 70%] / 1.515358\n",
      "Train Epoch:4 [44000 / 60000 73%] / 1.531379\n",
      "Train Epoch:4 [46000 / 60000 77%] / 1.545118\n",
      "Train Epoch:4 [48000 / 60000 80%] / 1.548163\n",
      "Train Epoch:4 [50000 / 60000 83%] / 1.542295\n",
      "Train Epoch:4 [52000 / 60000 87%] / 1.570770\n",
      "Train Epoch:4 [54000 / 60000 90%] / 1.558408\n",
      "Train Epoch:4 [56000 / 60000 93%] / 1.568133\n",
      "Train Epoch:4 [58000 / 60000 97%] / 1.521928\n",
      "\n",
      "Test set: Average loss:0.0150, Accuracy57723/60000 (96%)\n",
      "\n",
      "Train Epoch:5 [0 / 60000 0%] / 1.540829\n",
      "Train Epoch:5 [2000 / 60000 3%] / 1.531766\n",
      "Train Epoch:5 [4000 / 60000 7%] / 1.545712\n",
      "Train Epoch:5 [6000 / 60000 10%] / 1.559079\n",
      "Train Epoch:5 [8000 / 60000 13%] / 1.544921\n",
      "Train Epoch:5 [10000 / 60000 17%] / 1.518155\n",
      "Train Epoch:5 [12000 / 60000 20%] / 1.519541\n",
      "Train Epoch:5 [14000 / 60000 23%] / 1.540714\n",
      "Train Epoch:5 [16000 / 60000 27%] / 1.593128\n",
      "Train Epoch:5 [18000 / 60000 30%] / 1.506612\n",
      "Train Epoch:5 [20000 / 60000 33%] / 1.537845\n",
      "Train Epoch:5 [22000 / 60000 37%] / 1.574507\n",
      "Train Epoch:5 [24000 / 60000 40%] / 1.522908\n",
      "Train Epoch:5 [26000 / 60000 43%] / 1.531434\n",
      "Train Epoch:5 [28000 / 60000 47%] / 1.546613\n",
      "Train Epoch:5 [30000 / 60000 50%] / 1.525313\n",
      "Train Epoch:5 [32000 / 60000 53%] / 1.574776\n",
      "Train Epoch:5 [34000 / 60000 57%] / 1.518448\n",
      "Train Epoch:5 [36000 / 60000 60%] / 1.524721\n",
      "Train Epoch:5 [38000 / 60000 63%] / 1.543419\n",
      "Train Epoch:5 [40000 / 60000 67%] / 1.537960\n",
      "Train Epoch:5 [42000 / 60000 70%] / 1.492869\n",
      "Train Epoch:5 [44000 / 60000 73%] / 1.462787\n",
      "Train Epoch:5 [46000 / 60000 77%] / 1.545092\n",
      "Train Epoch:5 [48000 / 60000 80%] / 1.541677\n",
      "Train Epoch:5 [50000 / 60000 83%] / 1.548395\n",
      "Train Epoch:5 [52000 / 60000 87%] / 1.505385\n",
      "Train Epoch:5 [54000 / 60000 90%] / 1.526389\n",
      "Train Epoch:5 [56000 / 60000 93%] / 1.547984\n",
      "Train Epoch:5 [58000 / 60000 97%] / 1.496541\n",
      "\n",
      "Test set: Average loss:0.0150, Accuracy57914/60000 (97%)\n",
      "\n",
      "Train Epoch:6 [0 / 60000 0%] / 1.498099\n",
      "Train Epoch:6 [2000 / 60000 3%] / 1.489048\n",
      "Train Epoch:6 [4000 / 60000 7%] / 1.500687\n",
      "Train Epoch:6 [6000 / 60000 10%] / 1.591113\n",
      "Train Epoch:6 [8000 / 60000 13%] / 1.555489\n",
      "Train Epoch:6 [10000 / 60000 17%] / 1.524259\n",
      "Train Epoch:6 [12000 / 60000 20%] / 1.504243\n",
      "Train Epoch:6 [14000 / 60000 23%] / 1.498857\n",
      "Train Epoch:6 [16000 / 60000 27%] / 1.548375\n",
      "Train Epoch:6 [18000 / 60000 30%] / 1.505186\n",
      "Train Epoch:6 [20000 / 60000 33%] / 1.544484\n",
      "Train Epoch:6 [22000 / 60000 37%] / 1.559019\n",
      "Train Epoch:6 [24000 / 60000 40%] / 1.544659\n",
      "Train Epoch:6 [26000 / 60000 43%] / 1.541062\n",
      "Train Epoch:6 [28000 / 60000 47%] / 1.529912\n",
      "Train Epoch:6 [30000 / 60000 50%] / 1.532343\n",
      "Train Epoch:6 [32000 / 60000 53%] / 1.515482\n",
      "Train Epoch:6 [34000 / 60000 57%] / 1.528539\n",
      "Train Epoch:6 [36000 / 60000 60%] / 1.564909\n",
      "Train Epoch:6 [38000 / 60000 63%] / 1.520331\n",
      "Train Epoch:6 [40000 / 60000 67%] / 1.541106\n",
      "Train Epoch:6 [42000 / 60000 70%] / 1.502742\n",
      "Train Epoch:6 [44000 / 60000 73%] / 1.546041\n",
      "Train Epoch:6 [46000 / 60000 77%] / 1.498821\n",
      "Train Epoch:6 [48000 / 60000 80%] / 1.496390\n",
      "Train Epoch:6 [50000 / 60000 83%] / 1.564944\n",
      "Train Epoch:6 [52000 / 60000 87%] / 1.534867\n",
      "Train Epoch:6 [54000 / 60000 90%] / 1.528795\n",
      "Train Epoch:6 [56000 / 60000 93%] / 1.554220\n",
      "Train Epoch:6 [58000 / 60000 97%] / 1.538760\n",
      "\n",
      "Test set: Average loss:0.0149, Accuracy58081/60000 (97%)\n",
      "\n",
      "Train Epoch:7 [0 / 60000 0%] / 1.520144\n",
      "Train Epoch:7 [2000 / 60000 3%] / 1.525446\n",
      "Train Epoch:7 [4000 / 60000 7%] / 1.495026\n",
      "Train Epoch:7 [6000 / 60000 10%] / 1.538188\n",
      "Train Epoch:7 [8000 / 60000 13%] / 1.506973\n",
      "Train Epoch:7 [10000 / 60000 17%] / 1.557398\n",
      "Train Epoch:7 [12000 / 60000 20%] / 1.598216\n",
      "Train Epoch:7 [14000 / 60000 23%] / 1.526399\n",
      "Train Epoch:7 [16000 / 60000 27%] / 1.557910\n",
      "Train Epoch:7 [18000 / 60000 30%] / 1.548642\n",
      "Train Epoch:7 [20000 / 60000 33%] / 1.500483\n",
      "Train Epoch:7 [22000 / 60000 37%] / 1.542578\n",
      "Train Epoch:7 [24000 / 60000 40%] / 1.552499\n",
      "Train Epoch:7 [26000 / 60000 43%] / 1.539294\n",
      "Train Epoch:7 [28000 / 60000 47%] / 1.548226\n",
      "Train Epoch:7 [30000 / 60000 50%] / 1.536168\n",
      "Train Epoch:7 [32000 / 60000 53%] / 1.554275\n",
      "Train Epoch:7 [34000 / 60000 57%] / 1.487607\n",
      "Train Epoch:7 [36000 / 60000 60%] / 1.518216\n",
      "Train Epoch:7 [38000 / 60000 63%] / 1.498236\n",
      "Train Epoch:7 [40000 / 60000 67%] / 1.549703\n",
      "Train Epoch:7 [42000 / 60000 70%] / 1.523176\n",
      "Train Epoch:7 [44000 / 60000 73%] / 1.537005\n",
      "Train Epoch:7 [46000 / 60000 77%] / 1.530332\n",
      "Train Epoch:7 [48000 / 60000 80%] / 1.536240\n",
      "Train Epoch:7 [50000 / 60000 83%] / 1.520060\n",
      "Train Epoch:7 [52000 / 60000 87%] / 1.511028\n",
      "Train Epoch:7 [54000 / 60000 90%] / 1.505200\n",
      "Train Epoch:7 [56000 / 60000 93%] / 1.537940\n",
      "Train Epoch:7 [58000 / 60000 97%] / 1.526484\n",
      "\n",
      "Test set: Average loss:0.0149, Accuracy58191/60000 (97%)\n",
      "\n",
      "Train Epoch:8 [0 / 60000 0%] / 1.564189\n",
      "Train Epoch:8 [2000 / 60000 3%] / 1.553998\n",
      "Train Epoch:8 [4000 / 60000 7%] / 1.543247\n",
      "Train Epoch:8 [6000 / 60000 10%] / 1.566475\n",
      "Train Epoch:8 [8000 / 60000 13%] / 1.525192\n",
      "Train Epoch:8 [10000 / 60000 17%] / 1.563818\n",
      "Train Epoch:8 [12000 / 60000 20%] / 1.543423\n",
      "Train Epoch:8 [14000 / 60000 23%] / 1.525448\n",
      "Train Epoch:8 [16000 / 60000 27%] / 1.566618\n",
      "Train Epoch:8 [18000 / 60000 30%] / 1.530638\n",
      "Train Epoch:8 [20000 / 60000 33%] / 1.543959\n",
      "Train Epoch:8 [22000 / 60000 37%] / 1.504627\n",
      "Train Epoch:8 [24000 / 60000 40%] / 1.513093\n",
      "Train Epoch:8 [26000 / 60000 43%] / 1.506954\n",
      "Train Epoch:8 [28000 / 60000 47%] / 1.515450\n",
      "Train Epoch:8 [30000 / 60000 50%] / 1.577298\n",
      "Train Epoch:8 [32000 / 60000 53%] / 1.527578\n",
      "Train Epoch:8 [34000 / 60000 57%] / 1.555552\n",
      "Train Epoch:8 [36000 / 60000 60%] / 1.538605\n",
      "Train Epoch:8 [38000 / 60000 63%] / 1.543170\n",
      "Train Epoch:8 [40000 / 60000 67%] / 1.589064\n",
      "Train Epoch:8 [42000 / 60000 70%] / 1.521618\n",
      "Train Epoch:8 [44000 / 60000 73%] / 1.516319\n",
      "Train Epoch:8 [46000 / 60000 77%] / 1.560119\n",
      "Train Epoch:8 [48000 / 60000 80%] / 1.517395\n",
      "Train Epoch:8 [50000 / 60000 83%] / 1.505304\n",
      "Train Epoch:8 [52000 / 60000 87%] / 1.516607\n",
      "Train Epoch:8 [54000 / 60000 90%] / 1.512773\n",
      "Train Epoch:8 [56000 / 60000 93%] / 1.548760\n",
      "Train Epoch:8 [58000 / 60000 97%] / 1.523762\n",
      "\n",
      "Test set: Average loss:0.0149, Accuracy58293/60000 (97%)\n",
      "\n",
      "Train Epoch:9 [0 / 60000 0%] / 1.526727\n",
      "Train Epoch:9 [2000 / 60000 3%] / 1.493077\n",
      "Train Epoch:9 [4000 / 60000 7%] / 1.495948\n",
      "Train Epoch:9 [6000 / 60000 10%] / 1.550481\n",
      "Train Epoch:9 [8000 / 60000 13%] / 1.507371\n",
      "Train Epoch:9 [10000 / 60000 17%] / 1.500357\n",
      "Train Epoch:9 [12000 / 60000 20%] / 1.572488\n",
      "Train Epoch:9 [14000 / 60000 23%] / 1.528630\n",
      "Train Epoch:9 [16000 / 60000 27%] / 1.525517\n",
      "Train Epoch:9 [18000 / 60000 30%] / 1.538399\n",
      "Train Epoch:9 [20000 / 60000 33%] / 1.530214\n",
      "Train Epoch:9 [22000 / 60000 37%] / 1.543549\n",
      "Train Epoch:9 [24000 / 60000 40%] / 1.528383\n",
      "Train Epoch:9 [26000 / 60000 43%] / 1.497137\n",
      "Train Epoch:9 [28000 / 60000 47%] / 1.546629\n",
      "Train Epoch:9 [30000 / 60000 50%] / 1.531378\n",
      "Train Epoch:9 [32000 / 60000 53%] / 1.518423\n",
      "Train Epoch:9 [34000 / 60000 57%] / 1.528520\n",
      "Train Epoch:9 [36000 / 60000 60%] / 1.514612\n",
      "Train Epoch:9 [38000 / 60000 63%] / 1.518276\n",
      "Train Epoch:9 [40000 / 60000 67%] / 1.484762\n",
      "Train Epoch:9 [42000 / 60000 70%] / 1.540733\n",
      "Train Epoch:9 [44000 / 60000 73%] / 1.560692\n",
      "Train Epoch:9 [46000 / 60000 77%] / 1.512225\n",
      "Train Epoch:9 [48000 / 60000 80%] / 1.530321\n",
      "Train Epoch:9 [50000 / 60000 83%] / 1.533912\n",
      "Train Epoch:9 [52000 / 60000 87%] / 1.539114\n",
      "Train Epoch:9 [54000 / 60000 90%] / 1.508201\n",
      "Train Epoch:9 [56000 / 60000 93%] / 1.554784\n",
      "Train Epoch:9 [58000 / 60000 97%] / 1.591879\n",
      "\n",
      "Test set: Average loss:0.0149, Accuracy58311/60000 (97%)\n",
      "\n",
      "Train Epoch:10 [0 / 60000 0%] / 1.521688\n",
      "Train Epoch:10 [2000 / 60000 3%] / 1.521562\n",
      "Train Epoch:10 [4000 / 60000 7%] / 1.516728\n",
      "Train Epoch:10 [6000 / 60000 10%] / 1.552530\n",
      "Train Epoch:10 [8000 / 60000 13%] / 1.496704\n",
      "Train Epoch:10 [10000 / 60000 17%] / 1.522824\n",
      "Train Epoch:10 [12000 / 60000 20%] / 1.517967\n",
      "Train Epoch:10 [14000 / 60000 23%] / 1.540191\n",
      "Train Epoch:10 [16000 / 60000 27%] / 1.494328\n",
      "Train Epoch:10 [18000 / 60000 30%] / 1.532430\n",
      "Train Epoch:10 [20000 / 60000 33%] / 1.519363\n",
      "Train Epoch:10 [22000 / 60000 37%] / 1.488969\n",
      "Train Epoch:10 [24000 / 60000 40%] / 1.533674\n",
      "Train Epoch:10 [26000 / 60000 43%] / 1.555979\n",
      "Train Epoch:10 [28000 / 60000 47%] / 1.502174\n",
      "Train Epoch:10 [30000 / 60000 50%] / 1.531063\n",
      "Train Epoch:10 [32000 / 60000 53%] / 1.520197\n",
      "Train Epoch:10 [34000 / 60000 57%] / 1.554061\n",
      "Train Epoch:10 [36000 / 60000 60%] / 1.556096\n",
      "Train Epoch:10 [38000 / 60000 63%] / 1.506838\n",
      "Train Epoch:10 [40000 / 60000 67%] / 1.553027\n",
      "Train Epoch:10 [42000 / 60000 70%] / 1.492477\n",
      "Train Epoch:10 [44000 / 60000 73%] / 1.533961\n",
      "Train Epoch:10 [46000 / 60000 77%] / 1.535324\n",
      "Train Epoch:10 [48000 / 60000 80%] / 1.538201\n",
      "Train Epoch:10 [50000 / 60000 83%] / 1.516713\n",
      "Train Epoch:10 [52000 / 60000 87%] / 1.552142\n",
      "Train Epoch:10 [54000 / 60000 90%] / 1.499061\n",
      "Train Epoch:10 [56000 / 60000 93%] / 1.502985\n",
      "Train Epoch:10 [58000 / 60000 97%] / 1.532819\n",
      "\n",
      "Test set: Average loss:0.0149, Accuracy58482/60000 (97%)\n",
      "\n"
     ]
    }
   ],
   "source": [
    "for epoch in range(1,11):\n",
    "    train(epoch)\n",
    "    test()"
   ]
  },
  {
   "cell_type": "code",
   "execution_count": 37,
   "id": "7a5b9408",
   "metadata": {},
   "outputs": [
    {
     "data": {
      "text/plain": [
       "device(type='cpu')"
      ]
     },
     "execution_count": 37,
     "metadata": {},
     "output_type": "execute_result"
    }
   ],
   "source": [
    "device"
   ]
  },
  {
   "cell_type": "code",
   "execution_count": 53,
   "id": "5c6f1787",
   "metadata": {},
   "outputs": [
    {
     "name": "stdout",
     "output_type": "stream",
     "text": [
      "Prediction:5\n"
     ]
    },
    {
     "data": {
      "image/png": "[encoded data removed]",
      "text/plain": [
       "<Figure size 640x480 with 1 Axes>"
      ]
     },
     "metadata": {},
     "output_type": "display_data"
    }
   ],
   "source": [
    "import matplotlib.pyplot as plt\n",
    "model.eval()\n",
    "data,target=test_data[8]\n",
    "data=data.unsqueeze(0).to(device)\n",
    "output=model(data)\n",
    "prediction=output.argmax(dim=1,keepdim=True).item()\n",
    "print(f'Prediction:{prediction}')\n",
    "image=data.squeeze(0).cpu().numpy()\n",
    "plt.imshow(image[0], cmap='gray')  # Reshape image to 2D array and display\n",
    "plt.show()"
   ]
  }
 ],
 "metadata": {
  "kernelspec": {
   "display_name": "Python 3 (ipykernel)",
   "language": "python",
   "name": "python3"
  },
  "language_info": {
   "codemirror_mode": {
    "name": "ipython",
    "version": 3
   },
   "file_extension": ".py",
   "mimetype": "text/x-python",
   "name": "python",
   "nbconvert_exporter": "python",
   "pygments_lexer": "ipython3",
   "version": "3.11.5"
  }
 },
 "nbformat": 4,
 "nbformat_minor": 5
}
